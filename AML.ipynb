{
 "cells": [
  {
   "cell_type": "code",
   "execution_count": 1,
   "metadata": {
    "colab": {
     "autoexec": {
      "startup": false,
      "wait_interval": 0
     },
     "base_uri": "https://localhost:8080/",
     "height": 919
    },
    "colab_type": "code",
    "executionInfo": {
     "elapsed": 1630,
     "status": "error",
     "timestamp": 1530541423642,
     "user": {
      "displayName": "慎一郎",
      "photoUrl": "https://lh3.googleusercontent.com/a/default-user=s128",
      "userId": "111477893374000009006"
     },
     "user_tz": -540
    },
    "id": "UeEWaY_Ky8a7",
    "outputId": "9f4d607d-e625-4ea4-8567-5616ba3e1e6d"
   },
   "outputs": [],
   "source": [
    "# Evaluation function\n",
    "def get_model_score(y_true, X_test, pipeline, score_type):\n",
    "    y_pred = pipeline.predict(X_test)\n",
    "    if score_type == 'roc_auc':\n",
    "        score = roc_auc_score(y_true, y_pred)\n",
    "    elif score_type == 'f1':\n",
    "        score = f1_score(y_true, y_pred)\n",
    "    elif score_type == 'precision':\n",
    "        score = precision_score(y_true, y_pred)\n",
    "    elif score_type == 'accuracy':\n",
    "        score = accuracy_score(y_true, y_pred)\n",
    "    elif score_type == 'recall':\n",
    "        score = recall_score(y_true, y_pred)\n",
    "    return score"
   ]
  },
  {
   "cell_type": "code",
   "execution_count": 2,
   "metadata": {},
   "outputs": [
    {
     "name": "stdout",
     "output_type": "stream",
     "text": [
      "評価指標を入力してください : accuracy\n",
      "0 : RandomForest --> 0.979\n",
      "1 : GradientBoosting --> 0.970\n",
      "2 : MLP --> 0.958\n",
      "3 : KNN --> 0.935\n",
      "4 : Logistic --> 0.789\n",
      "5 : SVC --> 0.773\n",
      "-----------------------------------------------------\n",
      "best model :  RandomForest\n",
      "Pipeline(memory=None,\n",
      "     steps=[('scl', StandardScaler(copy=True, with_mean=True, with_std=True)), ('est', RandomForestClassifier(bootstrap=True, class_weight=None, criterion='gini',\n",
      "            max_depth=None, max_features='auto', max_leaf_nodes=None,\n",
      "            min_impurity_decrease=0.0, min_impurity_split=None,\n",
      "            min_samples_leaf=1, min_samples_split=2,\n",
      "            min_weight_fraction_leaf=0.0, n_estimators=10, n_jobs=1,\n",
      "            oob_score=False, random_state=1, verbose=0, warm_start=False))])\n",
      "-----------------------------------------------------\n",
      "               0\n",
      "count  10.000000\n",
      "mean    0.980804\n",
      "std     0.006391\n",
      "min     0.968796\n",
      "25%     0.976183\n",
      "50%     0.983607\n",
      "75%     0.984736\n",
      "max     0.988113\n",
      "-----------------------------------------------------\n"
     ]
    }
   ],
   "source": [
    "# import basic apis\n",
    "import numpy as np\n",
    "import pandas as pd\n",
    "from sklearn.preprocessing import StandardScaler, Imputer\n",
    "from sklearn.neighbors import KNeighborsClassifier\n",
    "from sklearn.linear_model import LogisticRegression\n",
    "from sklearn.ensemble import RandomForestClassifier,GradientBoostingClassifier\n",
    "from sklearn.neural_network import MLPClassifier\n",
    "from sklearn.svm import LinearSVC\n",
    "from sklearn.pipeline import Pipeline\n",
    "from sklearn.model_selection import train_test_split\n",
    "from sklearn.metrics import accuracy_score,precision_score,recall_score,f1_score,roc_auc_score\n",
    "from sklearn.feature_selection import RFE\n",
    "from sklearn.model_selection import cross_val_score,GridSearchCV\n",
    "from sklearn.externals import joblib\n",
    "\n",
    "\n",
    "# import data\n",
    "df = pd.read_csv('final_hr_analysis_train.csv', header=0)\n",
    "df_s = pd.read_csv('final_hr_analysis_test.csv', header=0)\n",
    "# モデル用\n",
    "X = df.iloc[:,2:]\n",
    "y = df.iloc[:,[1]]\n",
    "# スコア用\n",
    "ID = df_s.iloc[:,[0]]\n",
    "X_s = df_s.iloc[:,2:]\n",
    "    \n",
    "# one-hot エンコーディング\n",
    "ohe_columns = ['sales', 'salary']\n",
    "X_new = pd.get_dummies(X, dummy_na=True, columns=ohe_columns)\n",
    "X_new_s = pd.get_dummies(X_s, dummy_na=True, columns=ohe_columns)\n",
    "\n",
    "# holdout\n",
    "X_train, X_test, y_train, y_test = train_test_split(X_new, y, test_size=0.20, random_state=1)\n",
    "X_train, X_val, y_train, y_val = train_test_split(X_train, y_train, test_size=0.20, random_state=1)\n",
    "\n",
    "# set Pipelines\n",
    "pipe_knn = Pipeline([('scl',StandardScaler()), ('est',KNeighborsClassifier())])\n",
    "pipe_logistic = Pipeline([('scl', StandardScaler()), ('est',LogisticRegression(random_state=1))])\n",
    "pipe_rf = Pipeline([('scl', StandardScaler()), ('est',RandomForestClassifier(random_state=1))])\n",
    "pipe_gbc = Pipeline([('scl', StandardScaler()), ('est',GradientBoostingClassifier(random_state=1))])\n",
    "pipe_mlpc = Pipeline([('scl', StandardScaler()), ('est',MLPClassifier(max_iter=500, random_state=1))])\n",
    "pipe_svc = Pipeline([('scl', StandardScaler()), ('est',LinearSVC(random_state=1))])\n",
    "    \n",
    "pipe_dict = {'KNN':pipe_knn, 'Logistic':pipe_logistic, 'RandomForest':pipe_rf,\n",
    "             'GradientBoosting':pipe_gbc, 'MLP':pipe_mlpc, 'SVC':pipe_svc}\n",
    "score_list = ['roc_auc', 'f1', 'precision', 'accuracy', 'recall']\n",
    "model_score = {}\n",
    "    \n",
    "print(\"評価指標を入力してください : \" , end = '')\n",
    "    \n",
    "input_score = input()\n",
    "    \n",
    "if  input_score not in score_list:\n",
    "    print(\"評価指標は以下から指定してください。\")\n",
    "    print(\"roc_auc、f1、precision、accuracy、recall\")\n",
    "else:\n",
    "    for (key,pipe) in pipe_dict.items():\n",
    "        pipe.fit(X_train, y_train.as_matrix().ravel())\n",
    "        score = get_model_score(y_test.as_matrix().ravel(), X_test, pipe, input_score)\n",
    "        model_score[key] = score\n",
    "            \n",
    "    for i,(name, score) in enumerate(sorted(model_score.items(), key=lambda x:-x[1])):\n",
    "        print(i, ':', '%s --> %.3f'%(name,score))\n",
    "            \n",
    "    # Get the best model and save\n",
    "    key_at_max_score = max(model_score, key=model_score.get)\n",
    "    print('-----------------------------------------------------')\n",
    "    print('best model : ', key_at_max_score)\n",
    "    print(pipe_dict[key_at_max_score])\n",
    "    cv_results = cross_val_score(pipe_dict[key_at_max_score], X_train, y_train.as_matrix().ravel(), cv=10, scoring=input_score)\n",
    "    print('-----------------------------------------------------')\n",
    "    print(pd.DataFrame(cv_results).describe())\n",
    "    print('-----------------------------------------------------')"
   ]
  },
  {
   "cell_type": "code",
   "execution_count": 3,
   "metadata": {
    "colab": {
     "autoexec": {
      "startup": false,
      "wait_interval": 0
     }
    },
    "colab_type": "code",
    "id": "9N1rSx9gy8bB"
   },
   "outputs": [
    {
     "name": "stdout",
     "output_type": "stream",
     "text": [
      "----------------------------------------------------------------------------------------------\n",
      "探索空間:{'est__n_estimators': [100], 'est__max_depth': [2, 4, 6, 8, 10, 12, 14, 16, 18, 20], 'est__n_jobs': [-1]}\n",
      "Best Score 0.978571\n",
      "\n",
      "Best Model: Pipeline(memory=None,\n",
      "     steps=[('scl', StandardScaler(copy=True, with_mean=True, with_std=True)), ('est', RandomForestClassifier(bootstrap=True, class_weight=None, criterion='gini',\n",
      "            max_depth=12, max_features='auto', max_leaf_nodes=None,\n",
      "            min_impurity_decrease=0.0, min_impurity_split=None,\n",
      "            min_samples_leaf=1, min_samples_split=2,\n",
      "            min_weight_fraction_leaf=0.0, n_estimators=100, n_jobs=-1,\n",
      "            oob_score=False, random_state=1, verbose=0, warm_start=False))])\n"
     ]
    },
    {
     "data": {
      "text/plain": [
       "['RandomForest.pkl']"
      ]
     },
     "execution_count": 3,
     "metadata": {},
     "output_type": "execute_result"
    }
   ],
   "source": [
    "# パラメータグリッドの設定\n",
    "param_grid = {'est__n_estimators':[100], 'est__max_depth':[2,4,6,8,10,12,14,16,18,20], 'est__n_jobs':[-1]}\n",
    "model = RandomForestClassifier()\n",
    "# 学習\n",
    "pipe = pipe_dict[key_at_max_score]\n",
    "best_estimator = []\n",
    "print('----------------------------------------------------------------------------------------------')\n",
    "print('探索空間:%s' % param_grid)\n",
    "gs = GridSearchCV(estimator=pipe, param_grid=param_grid, scoring=input_score, cv=10)\n",
    "gs = gs.fit(X_val, y_val.as_matrix().ravel())\n",
    "best_estimator.append(gs.best_estimator_)\n",
    "print('Best Score %.6f\\n' % gs.best_score_)\n",
    "print('Best Model: %s' % gs.best_estimator_)\n",
    "joblib.dump(gs.best_estimator_, key_at_max_score + '.pkl')"
   ]
  },
  {
   "cell_type": "code",
   "execution_count": 4,
   "metadata": {
    "colab": {
     "autoexec": {
      "startup": false,
      "wait_interval": 0
     }
    },
    "colab_type": "code",
    "id": "kDJQuiRoy8bG"
   },
   "outputs": [
    {
     "name": "stdout",
     "output_type": "stream",
     "text": [
      "0.9723809523809523\n"
     ]
    }
   ],
   "source": [
    "est = joblib.load('RandomForest.pkl')\n",
    "score = get_model_score(y_test.as_matrix().ravel(), X_test, est, 'accuracy')\n",
    "print(score)"
   ]
  },
  {
   "cell_type": "code",
   "execution_count": 5,
   "metadata": {
    "colab": {
     "autoexec": {
      "startup": false,
      "wait_interval": 0
     }
    },
    "colab_type": "code",
    "id": "L8mbCI8hy8bK"
   },
   "outputs": [],
   "source": [
    "est = joblib.load('RandomForest.pkl')\n",
    "y_pred = pd.DataFrame(est.predict_proba(X_new_s)[:,[1]], columns=['prob'])\n",
    "df_ans = ID.join(y_pred)"
   ]
  },
  {
   "cell_type": "code",
   "execution_count": 8,
   "metadata": {
    "colab": {
     "autoexec": {
      "startup": false,
      "wait_interval": 0
     }
    },
    "colab_type": "code",
    "id": "CBwE1UOQy8bO"
   },
   "outputs": [],
   "source": [
    "df_ans.to_csv('aijc1182.csv', index=False)"
   ]
  },
  {
   "cell_type": "code",
   "execution_count": null,
   "metadata": {},
   "outputs": [],
   "source": []
  }
 ],
 "metadata": {
  "accelerator": "GPU",
  "colab": {
   "default_view": {},
   "name": "AML.ipynb",
   "provenance": [],
   "version": "0.3.2",
   "views": {}
  },
  "kernelspec": {
   "display_name": "Python 3",
   "language": "python",
   "name": "python3"
  },
  "language_info": {
   "codemirror_mode": {
    "name": "ipython",
    "version": 3
   },
   "file_extension": ".py",
   "mimetype": "text/x-python",
   "name": "python",
   "nbconvert_exporter": "python",
   "pygments_lexer": "ipython3",
   "version": "3.6.4"
  }
 },
 "nbformat": 4,
 "nbformat_minor": 1
}
